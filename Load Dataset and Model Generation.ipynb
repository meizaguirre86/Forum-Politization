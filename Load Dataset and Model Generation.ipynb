{
 "cells": [
  {
   "cell_type": "code",
   "execution_count": 1,
   "metadata": {},
   "outputs": [],
   "source": [
    "import csv\n",
    "import tensorflow as tf\n",
    "import numpy as np\n",
    "from tensorflow.keras.preprocessing.text import Tokenizer\n",
    "from tensorflow.keras.preprocessing.sequence import pad_sequences\n",
    "from nltk.corpus import stopwords\n",
    "import string\n",
    "from nltk.stem.snowball import SnowballStemmer\n",
    "import random\n",
    "import io"
   ]
  },
  {
   "cell_type": "code",
   "execution_count": 2,
   "metadata": {},
   "outputs": [],
   "source": [
    "vocab_size = 1000\n",
    "embedding_dim = 16\n",
    "max_length = 10\n",
    "trunc_type = 'post'\n",
    "padding_type = 'post'\n",
    "oov_tok = '<OOV>'\n",
    "training_portion = 0.95"
   ]
  },
  {
   "cell_type": "code",
   "execution_count": 3,
   "metadata": {},
   "outputs": [],
   "source": [
    "comments = []\n",
    "labels = []\n",
    "stopwords = set(stopwords.words('spanish'))"
   ]
  },
  {
   "cell_type": "code",
   "execution_count": 4,
   "metadata": {},
   "outputs": [],
   "source": [
    "def Normalize(text):\n",
    "    #QUITAMOS ACENTOS\n",
    "        \n",
    "    \n",
    "    #QUITAMOS \\n y \\r. TEXTO EN MINÚSCULA\n",
    "    text = text.replace('\\n', ' ').replace('\\r', '').lower()\n",
    "    \n",
    "    #QUITAMOS NÚMEROS\n",
    "    text = ''.join([i for i in text if not i.isdigit()])\n",
    "    \n",
    "    #QUITAMOS PUNTUACIÓN\n",
    "    text = \"\".join(l for l in text if l not in (string.punctuation,'?','¿',',','.'))\n",
    "    \n",
    "    #QUITAMOS DOBLES ESPACIOS\n",
    "    text = ' '.join(text.split())\n",
    "\n",
    "    #STEMMING Y QUITAMOS STOPWORDS\n",
    "    stemmer = SnowballStemmer(\"spanish\")\n",
    "    words = text.split()\n",
    "    text = ''\n",
    "    for word in words:\n",
    "        if not word in stopwords:\n",
    "            stemmed_word = stemmer.stem(word)\n",
    "            text = text + \" \" + stemmed_word\n",
    "    \n",
    "    return text"
   ]
  },
  {
   "cell_type": "code",
   "execution_count": 5,
   "metadata": {},
   "outputs": [],
   "source": [
    "with io.open(r\"C:\\Users\\meiza\\Documents\\GitHub\\Machine-Learning\\Forum Politization\\Dataset\\dataset.csv\", 'r',encoding='latin-1') as csvfile:\n",
    "    reader = csv.reader(csvfile, delimiter=',', quotechar=\"'\")\n",
    "    #next(reader)\n",
    "    for row in reader:\n",
    "        labels.append(row[0])\n",
    "        comment = Normalize(row[1])        \n",
    "        comments.append(comment)\n"
   ]
  },
  {
   "cell_type": "code",
   "execution_count": 6,
   "metadata": {},
   "outputs": [],
   "source": [
    "#MEZCLAMOS EL DATASET YA QUE EN EL CSV ORIGINAL ESTÁN ORDENADOS\n",
    "joint = list(zip(labels, comments))\n",
    "\n",
    "random.shuffle(joint)\n",
    "\n",
    "labels, comments = zip(*joint)\n",
    "\n",
    "#SEPARAMOS ENTRE DATOS PARA ENTRENAR MODELO Y DATOS PARA VALIDAR\n",
    "train_size = int(len(comments) * training_portion)\n",
    "train_comments = comments[:train_size]\n",
    "train_labels = labels[:train_size]\n",
    "validation_comments = comments[train_size:]\n",
    "validation_labels = labels[train_size:]"
   ]
  },
  {
   "cell_type": "code",
   "execution_count": 7,
   "metadata": {},
   "outputs": [],
   "source": [
    "#INICIAMOS TOKENIZER CON NUESTRO DATASET DE ENTRENO\n",
    "tokenizer = Tokenizer(num_words = vocab_size, oov_token=oov_tok)\n",
    "tokenizer.fit_on_texts(train_comments)\n",
    "word_index = tokenizer.word_index\n",
    "\n",
    "#TRANSFORMAMOS NUESTRO TEXTO EN TOKENS\n",
    "train_sequences = tokenizer.texts_to_sequences(train_comments)\n",
    "\n",
    "#PADDING A LOS COMENTARIOS QUE NO LLEGUEN A MAX_LENGTH.\n",
    "train_padded = pad_sequences(train_sequences, padding=padding_type, maxlen=max_length)\n",
    "\n",
    "#TOKENIZAMOS Y AÑADIMOS PADDING AL DATASET DE VALIDACIÓN\n",
    "validation_sequences = tokenizer.texts_to_sequences(validation_comments)\n",
    "validation_padded = pad_sequences(validation_sequences, padding=padding_type, maxlen=max_length)\n",
    "\n",
    "#TRANSFORMAMOS A NUMPY LOS LABELS\n",
    "train_labels = np.array(train_labels).astype('int')\n",
    "validation_labels = np.array(validation_labels).astype('int')\n"
   ]
  },
  {
   "cell_type": "code",
   "execution_count": 8,
   "metadata": {},
   "outputs": [
    {
     "name": "stdout",
     "output_type": "stream",
     "text": [
      "Model: \"sequential\"\n",
      "_________________________________________________________________\n",
      "Layer (type)                 Output Shape              Param #   \n",
      "=================================================================\n",
      "embedding (Embedding)        (None, 10, 16)            16000     \n",
      "_________________________________________________________________\n",
      "bidirectional (Bidirectional (None, 10, 128)           41472     \n",
      "_________________________________________________________________\n",
      "bidirectional_1 (Bidirection (None, 64)                41216     \n",
      "_________________________________________________________________\n",
      "dense (Dense)                (None, 64)                4160      \n",
      "_________________________________________________________________\n",
      "dropout (Dropout)            (None, 64)                0         \n",
      "_________________________________________________________________\n",
      "dense_1 (Dense)              (None, 2)                 130       \n",
      "=================================================================\n",
      "Total params: 102,978\n",
      "Trainable params: 102,978\n",
      "Non-trainable params: 0\n",
      "_________________________________________________________________\n"
     ]
    }
   ],
   "source": [
    "#CREAMOS MODELO\n",
    "model = tf.keras.Sequential([\n",
    "    tf.keras.layers.Embedding(vocab_size, embedding_dim, input_length=max_length),\n",
    "    tf.keras.layers.Bidirectional(tf.keras.layers.LSTM(64,  return_sequences=True)),\n",
    "    tf.keras.layers.Bidirectional(tf.keras.layers.LSTM(32)),\n",
    "    tf.keras.layers.Dense(64, activation='relu'),\n",
    "    tf.keras.layers.Dropout(0.5),\n",
    "    tf.keras.layers.Dense(2, activation='softmax')\n",
    "])\n",
    "\n",
    "#COMPILAMOS MODELO\n",
    "model.compile(loss=tf.keras.losses.SparseCategoricalCrossentropy(),\n",
    "              optimizer=tf.keras.optimizers.Adam(),\n",
    "              metrics=['accuracy'])\n",
    "\n",
    "model.summary()"
   ]
  },
  {
   "cell_type": "code",
   "execution_count": 9,
   "metadata": {},
   "outputs": [
    {
     "name": "stdout",
     "output_type": "stream",
     "text": [
      "Train on 2135 samples, validate on 113 samples\n",
      "Epoch 1/15\n",
      "2135/2135 [==============================] - 9s 4ms/sample - loss: 0.6613 - accuracy: 0.6042 - val_loss: 0.4772 - val_accuracy: 0.7965\n",
      "Epoch 2/15\n",
      "2135/2135 [==============================] - 2s 824us/sample - loss: 0.3393 - accuracy: 0.8403 - val_loss: 0.3336 - val_accuracy: 0.8584\n",
      "Epoch 3/15\n",
      "2135/2135 [==============================] - 2s 836us/sample - loss: 0.2129 - accuracy: 0.9002 - val_loss: 0.3697 - val_accuracy: 0.8319\n",
      "Epoch 4/15\n",
      "2135/2135 [==============================] - 2s 828us/sample - loss: 0.1678 - accuracy: 0.9204 - val_loss: 0.5208 - val_accuracy: 0.8053\n",
      "Epoch 5/15\n",
      "2135/2135 [==============================] - 2s 829us/sample - loss: 0.1299 - accuracy: 0.9372 - val_loss: 0.5330 - val_accuracy: 0.8053\n",
      "Epoch 6/15\n",
      "2135/2135 [==============================] - 2s 828us/sample - loss: 0.1131 - accuracy: 0.9457 - val_loss: 0.7394 - val_accuracy: 0.8230\n",
      "Epoch 7/15\n",
      "2135/2135 [==============================] - 2s 870us/sample - loss: 0.1012 - accuracy: 0.9518 - val_loss: 0.7604 - val_accuracy: 0.7788\n",
      "Epoch 8/15\n",
      "2135/2135 [==============================] - 2s 870us/sample - loss: 0.0994 - accuracy: 0.9499 - val_loss: 0.6868 - val_accuracy: 0.7965\n",
      "Epoch 9/15\n",
      "2135/2135 [==============================] - 2s 873us/sample - loss: 0.0850 - accuracy: 0.9569 - val_loss: 0.9163 - val_accuracy: 0.8142\n",
      "Epoch 10/15\n",
      "2135/2135 [==============================] - 2s 1ms/sample - loss: 0.0828 - accuracy: 0.9607 - val_loss: 0.8707 - val_accuracy: 0.8230\n",
      "Epoch 11/15\n",
      "2135/2135 [==============================] - 2s 1ms/sample - loss: 0.0793 - accuracy: 0.9564 - val_loss: 1.2257 - val_accuracy: 0.8053\n",
      "Epoch 12/15\n",
      "2135/2135 [==============================] - 2s 1ms/sample - loss: 0.0916 - accuracy: 0.9560 - val_loss: 1.1994 - val_accuracy: 0.8230\n",
      "Epoch 13/15\n",
      "2135/2135 [==============================] - 2s 1ms/sample - loss: 0.0984 - accuracy: 0.9583 - val_loss: 0.7082 - val_accuracy: 0.8407\n",
      "Epoch 14/15\n",
      "2135/2135 [==============================] - 3s 1ms/sample - loss: 0.0814 - accuracy: 0.9593 - val_loss: 1.2615 - val_accuracy: 0.7788\n",
      "Epoch 15/15\n",
      "2135/2135 [==============================] - 2s 1ms/sample - loss: 0.0730 - accuracy: 0.9635 - val_loss: 1.1785 - val_accuracy: 0.7611\n"
     ]
    }
   ],
   "source": [
    "#ENTRENAMOS MODELO\n",
    "\n",
    "num_epochs = 15\n",
    "history = model.fit(train_padded, train_labels, epochs=num_epochs, validation_data=(validation_padded, validation_labels))"
   ]
  },
  {
   "cell_type": "code",
   "execution_count": 10,
   "metadata": {},
   "outputs": [],
   "source": [
    "def Predict(text):\n",
    "    print(text)\n",
    "    input_data = Normalize(text)\n",
    "    print(input_data)\n",
    "    input_data = tokenizer.texts_to_sequences([input_data])\n",
    "    print(input_data)\n",
    "    input_data = pad_sequences(input_data, padding=padding_type, maxlen=max_length)\n",
    "    pred = model.predict(input_data)\n",
    "    return pred"
   ]
  },
  {
   "cell_type": "code",
   "execution_count": 11,
   "metadata": {},
   "outputs": [
    {
     "name": "stdout",
     "output_type": "stream",
     "text": [
      "gorda me la pone melafo\n",
      " gord pon melaf\n",
      "[[601, 45, 1]]\n",
      "Predicción: [[0.9030627  0.09693731]]\n"
     ]
    }
   ],
   "source": [
    "x = Predict('gorda me la pone melafo')\n",
    "print(\"Predicción:\", x)"
   ]
  },
  {
   "cell_type": "code",
   "execution_count": 12,
   "metadata": {},
   "outputs": [
    {
     "name": "stdout",
     "output_type": "stream",
     "text": [
      "vete a por una paguita\n",
      " vet paguit\n",
      "[[1, 290]]\n",
      "Predicción: [[4.5741981e-06 9.9999547e-01]]\n"
     ]
    }
   ],
   "source": [
    "x = Predict('vete a por una paguita')\n",
    "print(\"Predicción:\", x)"
   ]
  },
  {
   "cell_type": "code",
   "execution_count": null,
   "metadata": {},
   "outputs": [],
   "source": []
  },
  {
   "cell_type": "code",
   "execution_count": null,
   "metadata": {},
   "outputs": [],
   "source": []
  }
 ],
 "metadata": {
  "kernelspec": {
   "display_name": "Python 3",
   "language": "python",
   "name": "python3"
  },
  "language_info": {
   "codemirror_mode": {
    "name": "ipython",
    "version": 3
   },
   "file_extension": ".py",
   "mimetype": "text/x-python",
   "name": "python",
   "nbconvert_exporter": "python",
   "pygments_lexer": "ipython3",
   "version": "3.7.7"
  }
 },
 "nbformat": 4,
 "nbformat_minor": 4
}
