{
 "cells": [
  {
   "cell_type": "code",
   "execution_count": 2,
   "metadata": {},
   "outputs": [],
   "source": [
    "import csv\n",
    "import tensorflow as tf\n",
    "import numpy as np\n",
    "from tensorflow.keras.preprocessing.text import Tokenizer\n",
    "from tensorflow.keras.preprocessing.sequence import pad_sequences\n",
    "from nltk.corpus import stopwords\n",
    "import string\n",
    "from nltk.stem.snowball import SnowballStemmer\n",
    "import random\n",
    "import io"
   ]
  },
  {
   "cell_type": "code",
   "execution_count": 133,
   "metadata": {},
   "outputs": [],
   "source": [
    "vocab_size = 1000\n",
    "embedding_dim = 16\n",
    "max_length = 15\n",
    "trunc_type = 'post'\n",
    "padding_type = 'post'\n",
    "oov_tok = '<OOV>'\n",
    "training_portion = 0.9"
   ]
  },
  {
   "cell_type": "code",
   "execution_count": 134,
   "metadata": {},
   "outputs": [],
   "source": [
    "comments = []\n",
    "labels = []\n",
    "stopwords = set(stopwords.words('spanish'))"
   ]
  },
  {
   "cell_type": "code",
   "execution_count": 135,
   "metadata": {},
   "outputs": [],
   "source": [
    "def Normalize(text):\n",
    "    #QUITAMOS ACENTOS\n",
    "        \n",
    "    \n",
    "    #QUITAMOS \\n y \\r. TEXTO EN MINÚSCULA\n",
    "    text = text.replace('\\n', ' ').replace('\\r', '').lower()\n",
    "    \n",
    "    #QUITAMOS NÚMEROS\n",
    "    text = ''.join([i for i in text if not i.isdigit()])\n",
    "    \n",
    "    #QUITAMOS PUNTUACIÓN\n",
    "    text = \"\".join(l for l in text if l not in (string.punctuation,'?','¿',',','.'))\n",
    "    \n",
    "    #QUITAMOS DOBLES ESPACIOS\n",
    "    text = ' '.join(text.split())\n",
    "\n",
    "    #STEMMING Y QUITAMOS STOPWORDS\n",
    "    stemmer = SnowballStemmer(\"spanish\")\n",
    "    words = text.split()\n",
    "    text = ''\n",
    "    for word in words:\n",
    "        if not word in stopwords:\n",
    "            stemmed_word = stemmer.stem(word)\n",
    "            text = text + \" \" + stemmed_word\n",
    "    \n",
    "    return text"
   ]
  },
  {
   "cell_type": "code",
   "execution_count": 136,
   "metadata": {},
   "outputs": [],
   "source": [
    "with io.open(r\"C:\\Users\\meiza\\Documents\\GitHub\\Forum-Politization\\Dataset\\dataset.csv\", 'r',encoding='latin-1') as csvfile:\n",
    "    reader = csv.reader(csvfile, delimiter=',', quotechar=\"'\")\n",
    "    #next(reader)\n",
    "    for row in reader:\n",
    "        labels.append(row[0])\n",
    "        comment = Normalize(row[1])        \n",
    "        comments.append(comment)\n"
   ]
  },
  {
   "cell_type": "code",
   "execution_count": 137,
   "metadata": {},
   "outputs": [],
   "source": [
    "#MEZCLAMOS EL DATASET YA QUE EN EL CSV ORIGINAL ESTÁN ORDENADOS\n",
    "joint = list(zip(labels, comments))\n",
    "\n",
    "random.shuffle(joint)\n",
    "\n",
    "labels, comments = zip(*joint)\n",
    "\n",
    "#SEPARAMOS ENTRE DATOS PARA ENTRENAR MODELO Y DATOS PARA VALIDAR\n",
    "train_size = int(len(comments) * training_portion)\n",
    "train_comments = comments[:train_size]\n",
    "train_labels = labels[:train_size]\n",
    "validation_comments = comments[train_size:]\n",
    "validation_labels = labels[train_size:]"
   ]
  },
  {
   "cell_type": "code",
   "execution_count": 138,
   "metadata": {},
   "outputs": [],
   "source": [
    "#INICIAMOS TOKENIZER CON NUESTRO DATASET DE ENTRENO\n",
    "tokenizer = Tokenizer(num_words = vocab_size, oov_token=oov_tok)\n",
    "tokenizer.fit_on_texts(train_comments)\n",
    "word_index = tokenizer.word_index\n",
    "\n",
    "#TRANSFORMAMOS NUESTRO TEXTO EN TOKENS\n",
    "train_sequences = tokenizer.texts_to_sequences(train_comments)\n",
    "\n",
    "#PADDING A LOS COMENTARIOS QUE NO LLEGUEN A MAX_LENGTH.\n",
    "train_padded = pad_sequences(train_sequences, padding=padding_type, maxlen=max_length)\n",
    "\n",
    "#TOKENIZAMOS Y AÑADIMOS PADDING AL DATASET DE VALIDACIÓN\n",
    "validation_sequences = tokenizer.texts_to_sequences(validation_comments)\n",
    "validation_padded = pad_sequences(validation_sequences, padding=padding_type, maxlen=max_length)\n",
    "\n",
    "#TRANSFORMAMOS A NUMPY LOS LABELS\n",
    "train_labels = np.array(train_labels).astype('int')\n",
    "validation_labels = np.array(validation_labels).astype('int')\n"
   ]
  },
  {
   "cell_type": "code",
   "execution_count": 139,
   "metadata": {},
   "outputs": [
    {
     "name": "stdout",
     "output_type": "stream",
     "text": [
      "Model: \"sequential_7\"\n",
      "_________________________________________________________________\n",
      "Layer (type)                 Output Shape              Param #   \n",
      "=================================================================\n",
      "embedding_7 (Embedding)      (None, 15, 16)            16000     \n",
      "_________________________________________________________________\n",
      "bidirectional_14 (Bidirectio (None, 15, 128)           41472     \n",
      "_________________________________________________________________\n",
      "bidirectional_15 (Bidirectio (None, 64)                41216     \n",
      "_________________________________________________________________\n",
      "dense_14 (Dense)             (None, 64)                4160      \n",
      "_________________________________________________________________\n",
      "dropout_7 (Dropout)          (None, 64)                0         \n",
      "_________________________________________________________________\n",
      "dense_15 (Dense)             (None, 2)                 130       \n",
      "=================================================================\n",
      "Total params: 102,978\n",
      "Trainable params: 102,978\n",
      "Non-trainable params: 0\n",
      "_________________________________________________________________\n"
     ]
    }
   ],
   "source": [
    "#CREAMOS MODELO\n",
    "model = tf.keras.Sequential([\n",
    "    tf.keras.layers.Embedding(vocab_size, embedding_dim, input_length=max_length),\n",
    "    tf.keras.layers.Bidirectional(tf.keras.layers.LSTM(64,  return_sequences=True)),\n",
    "    tf.keras.layers.Bidirectional(tf.keras.layers.LSTM(32)),\n",
    "    tf.keras.layers.Dense(64, activation='relu'),\n",
    "    tf.keras.layers.Dropout(0.5),\n",
    "    tf.keras.layers.Dense(2, activation='softmax')\n",
    "])\n",
    "\n",
    "#COMPILAMOS MODELO\n",
    "model.compile(loss=tf.keras.losses.SparseCategoricalCrossentropy(),\n",
    "              optimizer=tf.keras.optimizers.Adam(),\n",
    "              metrics=['accuracy'])\n",
    "\n",
    "model.summary()"
   ]
  },
  {
   "cell_type": "code",
   "execution_count": 140,
   "metadata": {},
   "outputs": [
    {
     "name": "stdout",
     "output_type": "stream",
     "text": [
      "Train on 4302 samples, validate on 479 samples\n",
      "Epoch 1/15\n",
      "4302/4302 [==============================] - 13s 3ms/sample - loss: 0.5815 - accuracy: 0.6739 - val_loss: 0.3768 - val_accuracy: 0.8163\n",
      "Epoch 2/15\n",
      "4302/4302 [==============================] - 5s 1ms/sample - loss: 0.3541 - accuracy: 0.8352 - val_loss: 0.3465 - val_accuracy: 0.8372\n",
      "Epoch 3/15\n",
      "4302/4302 [==============================] - 5s 1ms/sample - loss: 0.3006 - accuracy: 0.8582 - val_loss: 0.3921 - val_accuracy: 0.8330\n",
      "Epoch 4/15\n",
      "4302/4302 [==============================] - 6s 1ms/sample - loss: 0.2781 - accuracy: 0.8728 - val_loss: 0.3480 - val_accuracy: 0.8330\n",
      "Epoch 5/15\n",
      "4302/4302 [==============================] - 6s 1ms/sample - loss: 0.2600 - accuracy: 0.8745 - val_loss: 0.3924 - val_accuracy: 0.8142\n",
      "Epoch 6/15\n",
      "4302/4302 [==============================] - 6s 1ms/sample - loss: 0.2480 - accuracy: 0.8826 - val_loss: 0.3854 - val_accuracy: 0.8330\n",
      "Epoch 7/15\n",
      "4302/4302 [==============================] - 7s 2ms/sample - loss: 0.2349 - accuracy: 0.8833 - val_loss: 0.4183 - val_accuracy: 0.8434\n",
      "Epoch 8/15\n",
      "4302/4302 [==============================] - 6s 1ms/sample - loss: 0.2282 - accuracy: 0.8821 - val_loss: 0.4683 - val_accuracy: 0.8434\n",
      "Epoch 9/15\n",
      "4302/4302 [==============================] - 7s 2ms/sample - loss: 0.2174 - accuracy: 0.8914 - val_loss: 0.5987 - val_accuracy: 0.8351\n",
      "Epoch 10/15\n",
      "4302/4302 [==============================] - 6s 1ms/sample - loss: 0.2084 - accuracy: 0.8959 - val_loss: 0.5089 - val_accuracy: 0.8330\n",
      "Epoch 11/15\n",
      "4302/4302 [==============================] - 6s 1ms/sample - loss: 0.2040 - accuracy: 0.8952 - val_loss: 0.7241 - val_accuracy: 0.8455\n",
      "Epoch 12/15\n",
      "4302/4302 [==============================] - 6s 1ms/sample - loss: 0.1996 - accuracy: 0.9000 - val_loss: 0.6232 - val_accuracy: 0.8142\n",
      "Epoch 13/15\n",
      "4302/4302 [==============================] - 6s 1ms/sample - loss: 0.1949 - accuracy: 0.8984 - val_loss: 0.5433 - val_accuracy: 0.8518\n",
      "Epoch 14/15\n",
      "4302/4302 [==============================] - 6s 1ms/sample - loss: 0.1801 - accuracy: 0.9061 - val_loss: 0.8007 - val_accuracy: 0.8392\n",
      "Epoch 15/15\n",
      "4302/4302 [==============================] - 6s 1ms/sample - loss: 0.1743 - accuracy: 0.9073 - val_loss: 0.7887 - val_accuracy: 0.8497\n"
     ]
    }
   ],
   "source": [
    "#ENTRENAMOS MODELO\n",
    "\n",
    "num_epochs = 15\n",
    "history = model.fit(train_padded, train_labels, epochs=num_epochs, validation_data=(validation_padded, validation_labels))"
   ]
  },
  {
   "cell_type": "code",
   "execution_count": 141,
   "metadata": {},
   "outputs": [],
   "source": [
    "def Predict(text):\n",
    "    print(text)\n",
    "    input_data = Normalize(text)\n",
    "    print(input_data)\n",
    "    input_data = tokenizer.texts_to_sequences([input_data])\n",
    "    print(input_data)\n",
    "    input_data = pad_sequences(input_data, padding=padding_type, maxlen=max_length)\n",
    "    pred = model.predict(input_data)\n",
    "    return pred"
   ]
  },
  {
   "cell_type": "code",
   "execution_count": 142,
   "metadata": {},
   "outputs": [],
   "source": [
    "model.save(r'C:\\Users\\meiza\\Documents\\GitHub\\Forum-Politization\\Model-Forum-Politization.h5')"
   ]
  },
  {
   "cell_type": "code",
   "execution_count": null,
   "metadata": {},
   "outputs": [],
   "source": []
  }
 ],
 "metadata": {
  "kernelspec": {
   "display_name": "Python 3",
   "language": "python",
   "name": "python3"
  },
  "language_info": {
   "codemirror_mode": {
    "name": "ipython",
    "version": 3
   },
   "file_extension": ".py",
   "mimetype": "text/x-python",
   "name": "python",
   "nbconvert_exporter": "python",
   "pygments_lexer": "ipython3",
   "version": "3.8.5"
  }
 },
 "nbformat": 4,
 "nbformat_minor": 4
}
