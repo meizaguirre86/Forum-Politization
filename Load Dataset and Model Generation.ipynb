{
 "cells": [
  {
   "cell_type": "code",
   "execution_count": 19,
   "metadata": {},
   "outputs": [],
   "source": [
    "import csv\n",
    "import tensorflow as tf\n",
    "import numpy as np\n",
    "from tensorflow.keras.preprocessing.text import Tokenizer\n",
    "from tensorflow.keras.preprocessing.sequence import pad_sequences\n",
    "from nltk.corpus import stopwords\n",
    "import string\n",
    "from nltk.stem.snowball import SnowballStemmer\n",
    "import random\n",
    "import io"
   ]
  },
  {
   "cell_type": "code",
   "execution_count": 20,
   "metadata": {},
   "outputs": [],
   "source": [
    "vocab_size = 1000\n",
    "embedding_dim = 16\n",
    "max_length = 15\n",
    "trunc_type = 'post'\n",
    "padding_type = 'post'\n",
    "oov_tok = '<OOV>'\n",
    "training_portion = 0.95"
   ]
  },
  {
   "cell_type": "code",
   "execution_count": 21,
   "metadata": {},
   "outputs": [],
   "source": [
    "comments = []\n",
    "labels = []\n",
    "stopwords = set(stopwords.words('spanish'))"
   ]
  },
  {
   "cell_type": "code",
   "execution_count": 22,
   "metadata": {},
   "outputs": [],
   "source": [
    "def Normalize(text):\n",
    "    #QUITAMOS ACENTOS\n",
    "        \n",
    "    \n",
    "    #QUITAMOS \\n y \\r. TEXTO EN MINÚSCULA\n",
    "    text = text.replace('\\n', ' ').replace('\\r', '').lower()\n",
    "    \n",
    "    #QUITAMOS NÚMEROS\n",
    "    text = ''.join([i for i in text if not i.isdigit()])\n",
    "    \n",
    "    #QUITAMOS PUNTUACIÓN\n",
    "    text = \"\".join(l for l in text if l not in (string.punctuation,'?','¿',',','.'))\n",
    "    \n",
    "    #QUITAMOS DOBLES ESPACIOS\n",
    "    text = ' '.join(text.split())\n",
    "\n",
    "    #STEMMING Y QUITAMOS STOPWORDS\n",
    "    stemmer = SnowballStemmer(\"spanish\")\n",
    "    words = text.split()\n",
    "    text = ''\n",
    "    for word in words:\n",
    "        if not word in stopwords:\n",
    "            stemmed_word = stemmer.stem(word)\n",
    "            text = text + \" \" + stemmed_word\n",
    "    \n",
    "    return text"
   ]
  },
  {
   "cell_type": "code",
   "execution_count": 23,
   "metadata": {},
   "outputs": [],
   "source": [
    "with io.open(r\"C:\\Users\\meiza\\Documents\\GitHub\\Forum-Politization\\Dataset\\dataset.csv\", 'r',encoding='latin-1') as csvfile:\n",
    "    reader = csv.reader(csvfile, delimiter=',', quotechar=\"'\")\n",
    "    #next(reader)\n",
    "    for row in reader:\n",
    "        labels.append(row[0])\n",
    "        comment = Normalize(row[1])        \n",
    "        comments.append(comment)\n"
   ]
  },
  {
   "cell_type": "code",
   "execution_count": 24,
   "metadata": {},
   "outputs": [],
   "source": [
    "#MEZCLAMOS EL DATASET YA QUE EN EL CSV ORIGINAL ESTÁN ORDENADOS\n",
    "joint = list(zip(labels, comments))\n",
    "\n",
    "random.shuffle(joint)\n",
    "\n",
    "labels, comments = zip(*joint)\n",
    "\n",
    "#SEPARAMOS ENTRE DATOS PARA ENTRENAR MODELO Y DATOS PARA VALIDAR\n",
    "train_size = int(len(comments) * training_portion)\n",
    "train_comments = comments[:train_size]\n",
    "train_labels = labels[:train_size]\n",
    "validation_comments = comments[train_size:]\n",
    "validation_labels = labels[train_size:]"
   ]
  },
  {
   "cell_type": "code",
   "execution_count": 25,
   "metadata": {},
   "outputs": [],
   "source": [
    "#INICIAMOS TOKENIZER CON NUESTRO DATASET DE ENTRENO\n",
    "tokenizer = Tokenizer(num_words = vocab_size, oov_token=oov_tok)\n",
    "tokenizer.fit_on_texts(train_comments)\n",
    "word_index = tokenizer.word_index\n",
    "\n",
    "#TRANSFORMAMOS NUESTRO TEXTO EN TOKENS\n",
    "train_sequences = tokenizer.texts_to_sequences(train_comments)\n",
    "\n",
    "#PADDING A LOS COMENTARIOS QUE NO LLEGUEN A MAX_LENGTH.\n",
    "train_padded = pad_sequences(train_sequences, padding=padding_type, maxlen=max_length)\n",
    "\n",
    "#TOKENIZAMOS Y AÑADIMOS PADDING AL DATASET DE VALIDACIÓN\n",
    "validation_sequences = tokenizer.texts_to_sequences(validation_comments)\n",
    "validation_padded = pad_sequences(validation_sequences, padding=padding_type, maxlen=max_length)\n",
    "\n",
    "#TRANSFORMAMOS A NUMPY LOS LABELS\n",
    "train_labels = np.array(train_labels).astype('int')\n",
    "validation_labels = np.array(validation_labels).astype('int')\n"
   ]
  },
  {
   "cell_type": "code",
   "execution_count": 26,
   "metadata": {},
   "outputs": [
    {
     "name": "stdout",
     "output_type": "stream",
     "text": [
      "Model: \"sequential_1\"\n",
      "_________________________________________________________________\n",
      "Layer (type)                 Output Shape              Param #   \n",
      "=================================================================\n",
      "embedding_1 (Embedding)      (None, 15, 16)            16000     \n",
      "_________________________________________________________________\n",
      "bidirectional_2 (Bidirection (None, 15, 128)           41472     \n",
      "_________________________________________________________________\n",
      "bidirectional_3 (Bidirection (None, 64)                41216     \n",
      "_________________________________________________________________\n",
      "dense_2 (Dense)              (None, 64)                4160      \n",
      "_________________________________________________________________\n",
      "dropout_1 (Dropout)          (None, 64)                0         \n",
      "_________________________________________________________________\n",
      "dense_3 (Dense)              (None, 2)                 130       \n",
      "=================================================================\n",
      "Total params: 102,978\n",
      "Trainable params: 102,978\n",
      "Non-trainable params: 0\n",
      "_________________________________________________________________\n"
     ]
    }
   ],
   "source": [
    "#CREAMOS MODELO\n",
    "model = tf.keras.Sequential([\n",
    "    tf.keras.layers.Embedding(vocab_size, embedding_dim, input_length=max_length),\n",
    "    tf.keras.layers.Bidirectional(tf.keras.layers.LSTM(64,  return_sequences=True)),\n",
    "    tf.keras.layers.Bidirectional(tf.keras.layers.LSTM(32)),\n",
    "    tf.keras.layers.Dense(64, activation='relu'),\n",
    "    tf.keras.layers.Dropout(0.5),\n",
    "    tf.keras.layers.Dense(2, activation='softmax')\n",
    "])\n",
    "\n",
    "#COMPILAMOS MODELO\n",
    "model.compile(loss=tf.keras.losses.SparseCategoricalCrossentropy(),\n",
    "              optimizer=tf.keras.optimizers.Adam(),\n",
    "              metrics=['accuracy'])\n",
    "\n",
    "model.summary()"
   ]
  },
  {
   "cell_type": "code",
   "execution_count": 27,
   "metadata": {},
   "outputs": [
    {
     "name": "stdout",
     "output_type": "stream",
     "text": [
      "Train on 2135 samples, validate on 113 samples\n",
      "Epoch 1/15\n",
      "2135/2135 [==============================] - 11s 5ms/sample - loss: 0.6472 - accuracy: 0.6023 - val_loss: 0.4994 - val_accuracy: 0.7434\n",
      "Epoch 2/15\n",
      "2135/2135 [==============================] - 3s 1ms/sample - loss: 0.3265 - accuracy: 0.8539 - val_loss: 0.3680 - val_accuracy: 0.8142\n",
      "Epoch 3/15\n",
      "2135/2135 [==============================] - ETA: 0s - loss: 0.2279 - accuracy: 0.89 - 3s 1ms/sample - loss: 0.2293 - accuracy: 0.8951 - val_loss: 0.3903 - val_accuracy: 0.7788\n",
      "Epoch 4/15\n",
      "2135/2135 [==============================] - 3s 1ms/sample - loss: 0.1845 - accuracy: 0.9180 - val_loss: 0.4095 - val_accuracy: 0.8230\n",
      "Epoch 5/15\n",
      "2135/2135 [==============================] - 3s 1ms/sample - loss: 0.1486 - accuracy: 0.9354 - val_loss: 0.4969 - val_accuracy: 0.7965\n",
      "Epoch 6/15\n",
      "2135/2135 [==============================] - 3s 1ms/sample - loss: 0.1243 - accuracy: 0.9410 - val_loss: 0.6645 - val_accuracy: 0.7965\n",
      "Epoch 7/15\n",
      "2135/2135 [==============================] - 3s 2ms/sample - loss: 0.1221 - accuracy: 0.9363 - val_loss: 0.5782 - val_accuracy: 0.8142\n",
      "Epoch 8/15\n",
      "2135/2135 [==============================] - 3s 1ms/sample - loss: 0.1120 - accuracy: 0.9457 - val_loss: 0.6333 - val_accuracy: 0.8142\n",
      "Epoch 9/15\n",
      "2135/2135 [==============================] - 3s 1ms/sample - loss: 0.1077 - accuracy: 0.9494 - val_loss: 1.0302 - val_accuracy: 0.8230\n",
      "Epoch 10/15\n",
      "2135/2135 [==============================] - 3s 2ms/sample - loss: 0.1111 - accuracy: 0.9466 - val_loss: 0.6072 - val_accuracy: 0.7611\n",
      "Epoch 11/15\n",
      "2135/2135 [==============================] - 3s 2ms/sample - loss: 0.0958 - accuracy: 0.9471 - val_loss: 1.4274 - val_accuracy: 0.80530s - loss: 0.098\n",
      "Epoch 12/15\n",
      "2135/2135 [==============================] - 3s 1ms/sample - loss: 0.0985 - accuracy: 0.9485 - val_loss: 0.7223 - val_accuracy: 0.8053\n",
      "Epoch 13/15\n",
      "2135/2135 [==============================] - 3s 1ms/sample - loss: 0.0992 - accuracy: 0.9536 - val_loss: 0.9542 - val_accuracy: 0.8230\n",
      "Epoch 14/15\n",
      "2135/2135 [==============================] - 3s 1ms/sample - loss: 0.0750 - accuracy: 0.9597 - val_loss: 1.1280 - val_accuracy: 0.8230\n",
      "Epoch 15/15\n",
      "2135/2135 [==============================] - 3s 1ms/sample - loss: 0.1071 - accuracy: 0.9466 - val_loss: 1.0356 - val_accuracy: 0.8142\n"
     ]
    }
   ],
   "source": [
    "#ENTRENAMOS MODELO\n",
    "\n",
    "num_epochs = 15\n",
    "history = model.fit(train_padded, train_labels, epochs=num_epochs, validation_data=(validation_padded, validation_labels))"
   ]
  },
  {
   "cell_type": "code",
   "execution_count": 28,
   "metadata": {},
   "outputs": [],
   "source": [
    "def Predict(text):\n",
    "    print(text)\n",
    "    input_data = Normalize(text)\n",
    "    print(input_data)\n",
    "    input_data = tokenizer.texts_to_sequences([input_data])\n",
    "    print(input_data)\n",
    "    input_data = pad_sequences(input_data, padding=padding_type, maxlen=max_length)\n",
    "    pred = model.predict(input_data)\n",
    "    return pred"
   ]
  },
  {
   "cell_type": "code",
   "execution_count": 40,
   "metadata": {},
   "outputs": [
    {
     "name": "stdout",
     "output_type": "stream",
     "text": [
      "este modelo es la ostia\n",
      " model osti\n",
      "[[1, 1]]\n",
      "Predicción: [[0.48026773 0.51973224]]\n"
     ]
    }
   ],
   "source": [
    "x = Predict('este modelo es la ostia')\n",
    "print(\"Predicción:\", x)"
   ]
  },
  {
   "cell_type": "code",
   "execution_count": null,
   "metadata": {},
   "outputs": [],
   "source": []
  },
  {
   "cell_type": "code",
   "execution_count": null,
   "metadata": {},
   "outputs": [],
   "source": []
  },
  {
   "cell_type": "code",
   "execution_count": null,
   "metadata": {},
   "outputs": [],
   "source": []
  }
 ],
 "metadata": {
  "kernelspec": {
   "display_name": "Python 3",
   "language": "python",
   "name": "python3"
  },
  "language_info": {
   "codemirror_mode": {
    "name": "ipython",
    "version": 3
   },
   "file_extension": ".py",
   "mimetype": "text/x-python",
   "name": "python",
   "nbconvert_exporter": "python",
   "pygments_lexer": "ipython3",
   "version": "3.7.7"
  }
 },
 "nbformat": 4,
 "nbformat_minor": 4
}
